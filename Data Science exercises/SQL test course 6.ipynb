{
 "cells": [
  {
   "attachments": {},
   "cell_type": "markdown",
   "metadata": {},
   "source": [
    "### **EXERCISE1: Using Joins**\n",
    "##### Question1"
   ]
  },
  {
   "attachments": {},
   "cell_type": "markdown",
   "metadata": {},
   "source": [
    "* Write and execute a SQL query to list the school names, community names and average attendance for communities with a hardship index of 98.\n"
   ]
  },
  {
   "attachments": {},
   "cell_type": "markdown",
   "metadata": {},
   "source": [
    "*<font color='green'>Solution</font>*"
   ]
  },
  {
   "cell_type": "code",
   "execution_count": null,
   "metadata": {
    "vscode": {
     "languageId": "sql"
    }
   },
   "outputs": [],
   "source": [
    "SELECT SCHOOL.NAME_OF_SCHOOL, SCHOOL.COMMUNITY_AREA_NAME, SCHOOL.AVERAGE_STUDENT_ATTENDANCE, CENSUS.HARDSHIP_INDEX\n",
    "FROM chicago_public_schools as SCHOOL\n",
    "LEFT OUTER JOIN chicago_socioeconomic_data as CENSUS\n",
    "ON SCHOOL.COMMUNITY_AREA_NAME = CENSUS.COMMUNITY_AREA_NAME\n",
    "WHERE CENSUS.HARDSHIP_INDEX = 98;"
   ]
  },
  {
   "attachments": {},
   "cell_type": "markdown",
   "metadata": {},
   "source": [
    "**Take a screenshot showing the SQL query and its results.**"
   ]
  },
  {
   "attachments": {},
   "cell_type": "markdown",
   "metadata": {},
   "source": [
    "##### Question2"
   ]
  },
  {
   "attachments": {},
   "cell_type": "markdown",
   "metadata": {},
   "source": [
    "* Write and execute a SQL query to list all crimes that took place at a school. Include case number, crime type and community name."
   ]
  },
  {
   "attachments": {},
   "cell_type": "markdown",
   "metadata": {},
   "source": [
    "*<font color='green'>Solution</font>*"
   ]
  },
  {
   "cell_type": "code",
   "execution_count": null,
   "metadata": {
    "vscode": {
     "languageId": "sql"
    }
   },
   "outputs": [],
   "source": [
    "SELECT CRIME.CASE_NUMBER, CRIME.PRIMARY_TYPE, CENSUS.COMMUNITY_AREA_NAME\n",
    "FROM chicago_crime as CRIME\n",
    "LEFT OUTER JOIN chicago_socioeconomic_data as CENSUS\n",
    "ON CRIME.COMMUNITY_AREA_NUMBER = CENSUS.COMMUNITY_AREA_NUMBER\n",
    "WHERE CRIME.LOCATION_DESCRIPTION LIKE \"%SCHOOL%\""
   ]
  },
  {
   "attachments": {},
   "cell_type": "markdown",
   "metadata": {},
   "source": [
    "**Take a screenshot showing the SQL query and its results.**"
   ]
  },
  {
   "attachments": {},
   "cell_type": "markdown",
   "metadata": {},
   "source": [
    "### **EXERCISE2: Creating a View**\n",
    "##### Question1"
   ]
  },
  {
   "attachments": {},
   "cell_type": "markdown",
   "metadata": {},
   "source": [
    "* Write and execute a SQL statement to create a view showing the columns listed in the following table, with a new column name as shown in the second column."
   ]
  },
  {
   "attachments": {},
   "cell_type": "markdown",
   "metadata": {},
   "source": [
    "Column name in CHICAGO_PUBLIC_SCHOOLS   Column name in view\n",
    "NAME_OF_SCHOOL          ->              Scool_Name\n",
    "Safety_Icon             ->              Safety_Rating\n",
    "Family_Involvement_Icon ->              Family_Rating\n",
    "Environment_Icon        ->              Environment_Rating\n",
    "Instruction_Icon        ->              Instruction_Rating\n",
    "Leaders_Icon            ->              Leaders_Rating\n",
    "Teachers_Icon           ->              Teachers_Rating"
   ]
  },
  {
   "attachments": {},
   "cell_type": "markdown",
   "metadata": {},
   "source": [
    "*<font color='green'>Solution</font>*"
   ]
  },
  {
   "cell_type": "code",
   "execution_count": null,
   "metadata": {
    "vscode": {
     "languageId": "sql"
    }
   },
   "outputs": [],
   "source": [
    "CREATE VIEW SCHOOL_VIEW_2 (School_Name, Safety_Rating, Family_Rating, Environment_Rating, Instruction_Rating, Leaders_Rating, Teachers_RAting)\n",
    "AS SELECT NAME_OF_SCHOOL, Safety_Icon, Family_Involvement_Icon, Environment_Icon, Instruction_Icon, Leaders_Icon, Teachers_Icon\n",
    "FROM chicago_public_schools;\n",
    "\n",
    "SELECT * FROM SCHOOL_VIEW_2"
   ]
  },
  {
   "attachments": {},
   "cell_type": "markdown",
   "metadata": {},
   "source": [
    "* Write and execute a SQL statement that returns all of the columns from the view."
   ]
  },
  {
   "attachments": {},
   "cell_type": "markdown",
   "metadata": {},
   "source": [
    "*<font color='green'>Solution</font>*"
   ]
  },
  {
   "cell_type": "code",
   "execution_count": null,
   "metadata": {
    "vscode": {
     "languageId": "sql"
    }
   },
   "outputs": [],
   "source": [
    "SELECT * FROM SCHOOL_VIEW_2"
   ]
  },
  {
   "attachments": {},
   "cell_type": "markdown",
   "metadata": {},
   "source": [
    "* Write and execute a SQL statement that returns just the school name and leaders rating from the view."
   ]
  },
  {
   "attachments": {},
   "cell_type": "markdown",
   "metadata": {},
   "source": [
    "*<font color='green'>Solution</font>*"
   ]
  },
  {
   "cell_type": "code",
   "execution_count": null,
   "metadata": {
    "vscode": {
     "languageId": "sql"
    }
   },
   "outputs": [],
   "source": [
    "SELECT School_Name, Leaders_Rating FROM SCHOOL_VIEW_2"
   ]
  },
  {
   "attachments": {},
   "cell_type": "markdown",
   "metadata": {},
   "source": [
    "**Take a screenshot showing the last SQL query and its results.**"
   ]
  },
  {
   "attachments": {},
   "cell_type": "markdown",
   "metadata": {},
   "source": [
    "### **EXERCISE3: Creating a Stored Procedure**\n",
    "##### Question1"
   ]
  },
  {
   "attachments": {},
   "cell_type": "markdown",
   "metadata": {},
   "source": [
    "* Write the structure of a query to create or replace a stored procedure called UPDATE_LEADERS_SCORE that takes a in_School_ID parameter as an integer and a in_Leader_Score parameter as an integer. Don't forget to use the #SET TERMINATOR statement to use the @ for the CREATE statement terminator."
   ]
  },
  {
   "attachments": {},
   "cell_type": "markdown",
   "metadata": {},
   "source": [
    "*<font color='green'>Solution</font>*"
   ]
  },
  {
   "cell_type": "code",
   "execution_count": null,
   "metadata": {
    "vscode": {
     "languageId": "sql"
    }
   },
   "outputs": [],
   "source": [
    "DROP PROCEDURE IF EXISTS UPDATE_LEADERS_SCORE;\n",
    "DELIMITER @\n",
    "CREATE PROCEDURE UPDATE_LEADERS_SCORE (IN in_School_ID INTEGER, IN in_Leaders_Score INTEGER)\n",
    "BEGIN\n",
    "\n",
    "END @\n",
    "DELIMITER ;"
   ]
  },
  {
   "attachments": {},
   "cell_type": "markdown",
   "metadata": {},
   "source": [
    "**Take a screenshot showing the SQL query.**"
   ]
  },
  {
   "attachments": {},
   "cell_type": "markdown",
   "metadata": {},
   "source": [
    "##### Question2"
   ]
  },
  {
   "attachments": {},
   "cell_type": "markdown",
   "metadata": {},
   "source": [
    "* Inside your stored procedure, write a SQL statement to update the Leaders_Score field in the CHICAGO_PUBLIC_SCHOOLS table for the school indentified by in_School_ID to the value on the in_Leader_Score parameter."
   ]
  },
  {
   "attachments": {},
   "cell_type": "markdown",
   "metadata": {},
   "source": [
    "*<font color='green'>Solution</font>*"
   ]
  },
  {
   "cell_type": "code",
   "execution_count": null,
   "metadata": {
    "vscode": {
     "languageId": "sql"
    }
   },
   "outputs": [],
   "source": [
    "DROP PROCEDURE IF EXISTS UPDATE_LEADERS_SCORE;\n",
    "DELIMITER @\n",
    "CREATE PROCEDURE UPDATE_LEADERS_SCORE (IN in_School_ID INTEGER, IN in_Leaders_Score INTEGER)\n",
    "BEGIN\n",
    "    UPDATE chicago_public_schools\n",
    "    SET Leaders_Score = in_Leaders_Score\n",
    "    WHERE School_ID=in_School_ID;\n",
    "\n",
    "END @\n",
    "DELIMITER ;"
   ]
  },
  {
   "attachments": {},
   "cell_type": "markdown",
   "metadata": {},
   "source": [
    "**Take a screenshot showing the SQL query.**"
   ]
  },
  {
   "attachments": {},
   "cell_type": "markdown",
   "metadata": {},
   "source": [
    "##### Question3"
   ]
  },
  {
   "attachments": {},
   "cell_type": "markdown",
   "metadata": {},
   "source": [
    "* Inside your stored procedure, write a SQL IF statement to update the Leaders_Icon field in the CHICAGO_PUBLIC_SCHOOLS table for the school identified by in _School_ID using the following information."
   ]
  },
  {
   "attachments": {},
   "cell_type": "markdown",
   "metadata": {},
   "source": [
    "Score lower limit       Score upper limit       Icon\n",
    "80                      99                      Very strong\n",
    "60                      79                      Strong\n",
    "40                      59                      Average\n",
    "20                      39                      Weak\n",
    "0                       19                      Very Weak"
   ]
  },
  {
   "attachments": {},
   "cell_type": "markdown",
   "metadata": {},
   "source": [
    "*<font color='green'>Solution</font>*"
   ]
  },
  {
   "cell_type": "code",
   "execution_count": null,
   "metadata": {
    "vscode": {
     "languageId": "sql"
    }
   },
   "outputs": [],
   "source": [
    "DROP PROCEDURE IF EXISTS UPDATE_LEADERS_SCORE;\n",
    "DELIMITER @\n",
    "CREATE PROCEDURE UPDATE_LEADERS_SCORE (IN in_School_ID INTEGER, IN in_Leaders_Score INTEGER)\n",
    "BEGIN\n",
    "\n",
    "    UPDATE chicago_public_schools\n",
    "    SET Leaders_Score = in_Leaders_Score\n",
    "    WHERE School_ID=in_School_ID;\n",
    "\n",
    "    ALTER TABLE chicago_public_schools\n",
    "        CHANGE Leaders_Icon \n",
    "        Leaders_Icon VARCHAR(15);\n",
    "        \n",
    "    IF in_Leaders_Score >= 80 THEN\n",
    "        UPDATE chicago_public_schools\n",
    "        SET Leaders_Icon = \"Very strong\"\n",
    "        WHERE School_ID=in_School_ID;\n",
    "\n",
    "    ELSEIF in_Leaders_Score >=60 AND in_Leaders_Score <80 THEN\n",
    "        UPDATE chicago_public_schools\n",
    "        SET Leaders_Icon = \"Strong\"\n",
    "        WHERE School_ID=in_School_ID;\n",
    "\n",
    "    ELSEIF in_Leaders_Score >=40 AND in_Leaders_Score <60 THEN\n",
    "        UPDATE chicago_public_schools\n",
    "        SET Leaders_Icon = \"Average\"\n",
    "        WHERE School_ID=in_School_ID;\n",
    "\n",
    "    ELSEIF in_Leaders_Score >=20 AND in_Leaders_Score <40 THEN\n",
    "        UPDATE chicago_public_schools\n",
    "        SET Leaders_Icon = \"Weak\"\n",
    "        WHERE School_ID=in_School_ID;\n",
    "\n",
    "    ELSE\n",
    "        UPDATE chicago_public_schools\n",
    "        SET Leaders_Icon = \"Very Weak\"\n",
    "        WHERE School_ID=in_School_ID;\n",
    "    END IF;\n",
    "    \n",
    "END @\n",
    "DELIMITER ;"
   ]
  },
  {
   "attachments": {},
   "cell_type": "markdown",
   "metadata": {},
   "source": [
    "**Take a screenshot showing the SQL query.**"
   ]
  },
  {
   "attachments": {},
   "cell_type": "markdown",
   "metadata": {},
   "source": [
    "##### Question4"
   ]
  },
  {
   "attachments": {},
   "cell_type": "markdown",
   "metadata": {},
   "source": [
    "* Run your code to create the stored procedure."
   ]
  },
  {
   "attachments": {},
   "cell_type": "markdown",
   "metadata": {},
   "source": [
    "**Take a screenshot showing the SQL query and its results.**"
   ]
  },
  {
   "attachments": {},
   "cell_type": "markdown",
   "metadata": {},
   "source": [
    "* Write a query to call the stored procedure, passing a valid school ID and a leader score of 50, to check that the procedure works and expected."
   ]
  },
  {
   "attachments": {},
   "cell_type": "markdown",
   "metadata": {},
   "source": [
    "*<font color='green'>Solution</font>*"
   ]
  },
  {
   "cell_type": "code",
   "execution_count": null,
   "metadata": {
    "vscode": {
     "languageId": "sql"
    }
   },
   "outputs": [],
   "source": [
    "CALL UPDATE_LEADERS_SCORE(610038, 50);\n",
    "SELECT SCHOOL_ID, LEADERS_ICON, LEADERS_SCORE FROM chicago_public_schools;"
   ]
  },
  {
   "attachments": {},
   "cell_type": "markdown",
   "metadata": {},
   "source": [
    "### **EXERCISE4: Using Transactions**\n",
    "##### Question1"
   ]
  },
  {
   "attachments": {},
   "cell_type": "markdown",
   "metadata": {},
   "source": [
    "* Update your stored procedure definition. Add a generic ELSE clause to the IF statement that rolls back the current work if the score did not fit any of the preceding categories."
   ]
  },
  {
   "attachments": {},
   "cell_type": "markdown",
   "metadata": {},
   "source": [
    "*<font color='green'>Solution</font>*"
   ]
  },
  {
   "cell_type": "code",
   "execution_count": null,
   "metadata": {
    "vscode": {
     "languageId": "sql"
    }
   },
   "outputs": [],
   "source": [
    "DROP PROCEDURE IF EXISTS UPDATE_LEADERS_SCORE;\n",
    "DELIMITER @\n",
    "CREATE PROCEDURE UPDATE_LEADERS_SCORE (IN in_School_ID INTEGER, IN in_Leaders_Score INTEGER)\n",
    "BEGIN\n",
    "    IF in_Leaders_Score >=0 and in_Leaders_Score <101 THEN\n",
    "\n",
    "        UPDATE chicago_public_schools\n",
    "        SET Leaders_Score = in_Leaders_Score\n",
    "        WHERE School_ID=in_School_ID;\n",
    "\n",
    "        ALTER TABLE chicago_public_schools\n",
    "        CHANGE Leaders_Icon \n",
    "        Leaders_Icon VARCHAR(15);\n",
    "        \n",
    "        IF in_Leaders_Score >= 80 AND in_Leaders_Score <101 THEN\n",
    "            UPDATE chicago_public_schools\n",
    "            SET Leaders_Icon = \"Very strong\"\n",
    "            WHERE School_ID=in_School_ID;\n",
    "\n",
    "        ELSEIF in_Leaders_Score >=60 AND in_Leaders_Score <80 THEN\n",
    "            UPDATE chicago_public_schools\n",
    "            SET Leaders_Icon = \"Strong\"\n",
    "            WHERE School_ID=in_School_ID;\n",
    "\n",
    "        ELSEIF in_Leaders_Score >=40 AND in_Leaders_Score <60 THEN\n",
    "            UPDATE chicago_public_schools\n",
    "            SET Leaders_Icon = \"Average\"\n",
    "            WHERE School_ID=in_School_ID;\n",
    "\n",
    "        ELSEIF in_Leaders_Score >=20 AND in_Leaders_Score <40 THEN\n",
    "            UPDATE chicago_public_schools\n",
    "            SET Leaders_Icon = \"Weak\"\n",
    "            WHERE School_ID=in_School_ID;\n",
    "\n",
    "        ELSEIF in_Leaders_Score >=0 AND in_Leaders_Score <20 THEN\n",
    "            UPDATE chicago_public_schools\n",
    "            SET Leaders_Icon = \"Very Weak\"\n",
    "            WHERE School_ID=in_School_ID;\n",
    "        END IF;\n",
    "\n",
    "    ELSE\n",
    "        ROLLBACK;\n",
    "\n",
    "    END IF;\n",
    "    \n",
    "END @\n",
    "DELIMITER ;"
   ]
  },
  {
   "attachments": {},
   "cell_type": "markdown",
   "metadata": {},
   "source": [
    "**Take a screenshot showing the SQL query.**"
   ]
  },
  {
   "attachments": {},
   "cell_type": "markdown",
   "metadata": {},
   "source": [
    "##### Question2"
   ]
  },
  {
   "attachments": {},
   "cell_type": "markdown",
   "metadata": {},
   "source": [
    "* Update your stored procedure definition again. Add a statement to commit the current unit of work at the end of the procedure."
   ]
  },
  {
   "attachments": {},
   "cell_type": "markdown",
   "metadata": {},
   "source": [
    "*<font color='green'>Solution</font>*"
   ]
  },
  {
   "cell_type": "code",
   "execution_count": null,
   "metadata": {
    "vscode": {
     "languageId": "sql"
    }
   },
   "outputs": [],
   "source": [
    "DROP PROCEDURE IF EXISTS UPDATE_LEADERS_SCORE;\n",
    "DELIMITER @\n",
    "CREATE PROCEDURE UPDATE_LEADERS_SCORE (IN in_School_ID INTEGER, IN in_Leaders_Score INTEGER)\n",
    "BEGIN\n",
    "    IF in_Leaders_Score >=0 and in_Leaders_Score <101 THEN\n",
    "\n",
    "        UPDATE chicago_public_schools\n",
    "        SET Leaders_Score = in_Leaders_Score\n",
    "        WHERE School_ID=in_School_ID;\n",
    "\n",
    "        ALTER TABLE chicago_public_schools\n",
    "        CHANGE Leaders_Icon \n",
    "        Leaders_Icon VARCHAR(15);\n",
    "        \n",
    "        IF in_Leaders_Score >= 80 AND in_Leaders_Score <101 THEN\n",
    "            UPDATE chicago_public_schools\n",
    "            SET Leaders_Icon = \"Very strong\"\n",
    "            WHERE School_ID=in_School_ID;\n",
    "\n",
    "        ELSEIF in_Leaders_Score >=60 AND in_Leaders_Score <80 THEN\n",
    "            UPDATE chicago_public_schools\n",
    "            SET Leaders_Icon = \"Strong\"\n",
    "            WHERE School_ID=in_School_ID;\n",
    "\n",
    "        ELSEIF in_Leaders_Score >=40 AND in_Leaders_Score <60 THEN\n",
    "            UPDATE chicago_public_schools\n",
    "            SET Leaders_Icon = \"Average\"\n",
    "            WHERE School_ID=in_School_ID;\n",
    "\n",
    "        ELSEIF in_Leaders_Score >=20 AND in_Leaders_Score <40 THEN\n",
    "            UPDATE chicago_public_schools\n",
    "            SET Leaders_Icon = \"Weak\"\n",
    "            WHERE School_ID=in_School_ID;\n",
    "\n",
    "        ELSEIF in_Leaders_Score >=0 AND in_Leaders_Score <20 THEN\n",
    "            UPDATE chicago_public_schools\n",
    "            SET Leaders_Icon = \"Very Weak\"\n",
    "            WHERE School_ID=in_School_ID;\n",
    "        END IF;\n",
    "\n",
    "    ELSE\n",
    "        ROLLBACK;\n",
    "\n",
    "    END IF;\n",
    "    \n",
    "COMMIT;\n",
    "\n",
    "END @\n",
    "DELIMITER ;"
   ]
  },
  {
   "attachments": {},
   "cell_type": "markdown",
   "metadata": {},
   "source": [
    "**Take a screenshot showing the SQL query.**"
   ]
  },
  {
   "attachments": {},
   "cell_type": "markdown",
   "metadata": {},
   "source": [
    "* Run your code to replace the stored procedure."
   ]
  },
  {
   "attachments": {},
   "cell_type": "markdown",
   "metadata": {},
   "source": [
    "* Write and run one query to check that the updated stored procedure works as expected when you use a valid score of 38."
   ]
  },
  {
   "attachments": {},
   "cell_type": "markdown",
   "metadata": {},
   "source": [
    "* Write and run another query to check that the updated stored procedure works as expected when you use an invalid score of 101."
   ]
  },
  {
   "attachments": {},
   "cell_type": "markdown",
   "metadata": {},
   "source": [
    "*<font color='green'>Solution</font>*"
   ]
  },
  {
   "cell_type": "code",
   "execution_count": null,
   "metadata": {
    "vscode": {
     "languageId": "sql"
    }
   },
   "outputs": [],
   "source": [
    "CALL UPDATE_LEADERS_SCORE(610038, 38);\n",
    "SELECT SCHOOL_ID, LEADERS_ICON, LEADERS_SCORE FROM chicago_public_schools\n",
    "LIMIT 1;"
   ]
  }
 ],
 "metadata": {
  "language_info": {
   "name": "python"
  },
  "orig_nbformat": 4
 },
 "nbformat": 4,
 "nbformat_minor": 2
}
